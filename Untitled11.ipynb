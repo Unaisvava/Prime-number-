{
  "nbformat": 4,
  "nbformat_minor": 0,
  "metadata": {
    "colab": {
      "provenance": [],
      "authorship_tag": "ABX9TyNQX4fRQfGaZboaFDkUs/kw",
      "include_colab_link": true
    },
    "kernelspec": {
      "name": "python3",
      "display_name": "Python 3"
    },
    "language_info": {
      "name": "python"
    }
  },
  "cells": [
    {
      "cell_type": "markdown",
      "metadata": {
        "id": "view-in-github",
        "colab_type": "text"
      },
      "source": [
        "<a href=\"https://colab.research.google.com/github/Unaisvava/Prime-number-/blob/main/Untitled11.ipynb\" target=\"_parent\"><img src=\"https://colab.research.google.com/assets/colab-badge.svg\" alt=\"Open In Colab\"/></a>"
      ]
    },
    {
      "cell_type": "code",
      "source": [
        "# prompt: sum of two numbers given by user\n",
        "\n",
        "num1 = int(input('Enter the first number: '))\n",
        "num2 = int(input('Enter the second number: '))\n",
        "sum = num1 + num2\n",
        "print('The sum of the two numbers is:', sum)\n"
      ],
      "metadata": {
        "colab": {
          "base_uri": "https://localhost:8080/"
        },
        "id": "L0ruVPxvDVqV",
        "outputId": "60778869-f457-4ef7-ea1a-9c49f6d1f8de"
      },
      "execution_count": 10,
      "outputs": [
        {
          "output_type": "stream",
          "name": "stdout",
          "text": [
            "Enter the first number: 10\n",
            "Enter the second number: 15\n",
            "The sum of the two numbers is: 25\n"
          ]
        }
      ]
    },
    {
      "cell_type": "code",
      "source": [
        "a = int(input())\n",
        "b = int(input())\n",
        "if  a > b:\n",
        "  print(\"first number is greater than second number\")\n",
        "\n",
        "elif  a < b:\n",
        "  print(\"first number is less than second number\")\n",
        "\n",
        "else:\n",
        "  print(\"first number is equal to the second number\")"
      ],
      "metadata": {
        "colab": {
          "base_uri": "https://localhost:8080/"
        },
        "id": "iephldS2FjZe",
        "outputId": "c9e16882-9588-4b6f-ebc1-43382c1416a0"
      },
      "execution_count": 15,
      "outputs": [
        {
          "output_type": "stream",
          "name": "stdout",
          "text": [
            "5\n",
            "5\n",
            "first number is equal to the second numer\n"
          ]
        }
      ]
    },
    {
      "cell_type": "code",
      "source": [
        "variable = int(input())\n",
        "\n",
        "print(\"Multiplication Table for\", variable,\":\")\n",
        "for i in range(1, 11):\n",
        "  result = variable * i\n",
        "  print(f\"{variable} x {i} = {result}\")"
      ],
      "metadata": {
        "colab": {
          "base_uri": "https://localhost:8080/"
        },
        "id": "LgmMjcDgJ-49",
        "outputId": "4d175a3f-ef64-40c2-db2e-b81d9cfa0271"
      },
      "execution_count": 25,
      "outputs": [
        {
          "output_type": "stream",
          "name": "stdout",
          "text": [
            "5\n",
            "Multiplication Table for 5 :\n",
            "5 x 1 = 5\n",
            "5 x 2 = 10\n",
            "5 x 3 = 15\n",
            "5 x 4 = 20\n",
            "5 x 5 = 25\n",
            "5 x 6 = 30\n",
            "5 x 7 = 35\n",
            "5 x 8 = 40\n",
            "5 x 9 = 45\n",
            "5 x 10 = 50\n"
          ]
        }
      ]
    }
  ]
}